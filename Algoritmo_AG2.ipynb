{
  "nbformat": 4,
  "nbformat_minor": 0,
  "metadata": {
    "colab": {
      "provenance": [],
      "authorship_tag": "ABX9TyMaisoDs2fs1BRfQ1pcAJB6",
      "include_colab_link": true
    },
    "kernelspec": {
      "name": "python3",
      "display_name": "Python 3"
    },
    "language_info": {
      "name": "python"
    }
  },
  "cells": [
    {
      "cell_type": "markdown",
      "metadata": {
        "id": "view-in-github",
        "colab_type": "text"
      },
      "source": [
        "<a href=\"https://colab.research.google.com/github/juanmiparrales/ag2/blob/main/Algoritmo_AG2.ipynb\" target=\"_parent\"><img src=\"https://colab.research.google.com/assets/colab-badge.svg\" alt=\"Open In Colab\"/></a>"
      ]
    },
    {
      "cell_type": "markdown",
      "source": [
        "Juan Miguel Parrales Cáceres\n",
        "\n",
        "Enlace: https://colab.research.google.com/drive/1j9cmENDbptmkxS1jfAYmQpzx8wywYRRb?usp=sharing\n",
        "\n",
        "https://github.com/juanmiparrales/ag2"
      ],
      "metadata": {
        "id": "acgQajRP-zkJ"
      }
    },
    {
      "cell_type": "code",
      "source": [
        "import math"
      ],
      "metadata": {
        "id": "4LXRzXG3h8pk"
      },
      "execution_count": null,
      "outputs": []
    },
    {
      "cell_type": "code",
      "source": [
        "#Viaje por el rio\n",
        "tarifas = [\n",
        "    [0,5,4,3,float(\"inf\"),999,999],\n",
        "    [999,0,999,2,3,999,11], #desde nodo 1\n",
        "    [999,999,0,1,999,4,10], #desde nodo 2\n",
        "    [999,999,999,0,5,6,9],\n",
        "    [999,999,999,999,0,999,4],\n",
        "    [999,999,999,999,999,0,3],\n",
        "    [999,999,999,999,999,999,0]\n",
        "]\n",
        "\n",
        "#999 se puede sustituir por float(\"inf\") del modulo math"
      ],
      "metadata": {
        "id": "6uQSqrkrhb-k"
      },
      "execution_count": null,
      "outputs": []
    },
    {
      "cell_type": "code",
      "source": [
        "from typing import Mapping\n",
        "#Calculo de la matriz de PRECIOS Y RUTAS\n",
        "# PRECIOS - contiene la matriz del mejor precio para ir de un nodo a otro\n",
        "# RUTAS - contiene los nodos intermedios para ir de un nodo a otro\n",
        "\n",
        "def precios(tarifas):\n",
        "    \n",
        "    #Total de Nodos\n",
        "    n = len(tarifas[0])\n",
        "\n",
        "    #Inicialización de la tabla de precios\n",
        "    precios = [[9999]*n for i in [9999]*n]  # n x N\n",
        "    ruta = [[\"\"]*n for i in [\"\"]*n]\n",
        "\n",
        "    #Se recorren todos los nodos con dos bucles (origen - destino)\n",
        "    # para ir construyendo la matriz de precios\n",
        "    for i in range(n-1):\n",
        "        for j in range(i+1, n):\n",
        "            MIN = tarifas[i][j]\n",
        "            ruta[i][j] = i\n",
        "\n",
        "            for k in range(i,j):\n",
        "                if precios[i][k] + tarifas[k][j] < MIN:\n",
        "                    MIN = min(MIN, precios[i][k] + tarifas[k][j])\n",
        "                    ruta[i][j] = k\n",
        "\n",
        "                precios[i][j] = MIN\n",
        "\n",
        "    return precios, ruta"
      ],
      "metadata": {
        "id": "gprzSBN_kxBU"
      },
      "execution_count": null,
      "outputs": []
    },
    {
      "cell_type": "code",
      "source": [
        "precios, ruta = precios(tarifas)"
      ],
      "metadata": {
        "id": "WFOJ5VX2mcMX"
      },
      "execution_count": null,
      "outputs": []
    },
    {
      "cell_type": "code",
      "source": [
        "#Calculo de la ruta usando la matriz RUTA\n",
        "def calcular_ruta(ruta, desde, hasta):\n",
        "    if desde == ruta[desde][hasta]:\n",
        "        return desde\n",
        "    \n",
        "    else:\n",
        "        return str(calcular_ruta(ruta, desde, ruta[desde][hasta])) + ',' + str(ruta[desde][hasta])\n",
        "\n",
        "\n",
        "\n",
        "\n",
        "print('\\La ruta es:')\n",
        "calcular_ruta(ruta, 0, 6)"
      ],
      "metadata": {
        "colab": {
          "base_uri": "https://localhost:8080/",
          "height": 53
        },
        "id": "43i25djmseMa",
        "outputId": "12e94f68-ca9b-4e30-df97-0abe016f9465"
      },
      "execution_count": null,
      "outputs": [
        {
          "output_type": "stream",
          "name": "stdout",
          "text": [
            "\\La ruta es:\n"
          ]
        },
        {
          "output_type": "execute_result",
          "data": {
            "text/plain": [
              "'0,2,5'"
            ],
            "application/vnd.google.colaboratory.intrinsic+json": {
              "type": "string"
            }
          },
          "metadata": {},
          "execution_count": 12
        }
      ]
    },
    {
      "cell_type": "code",
      "source": [
        "#Asignacion de tareas - Ramificación y Poda\n",
        "\n",
        "costes = [[11, 12, 18, 40],\n",
        "          [14, 15, 13, 22],\n",
        "          [11, 17, 19, 23],\n",
        "          [17, 14, 20, 28]]"
      ],
      "metadata": {
        "id": "HK5adWcBxBP1"
      },
      "execution_count": null,
      "outputs": []
    },
    {
      "cell_type": "code",
      "source": [
        "#Calculo del valor de una solucion parcial\n",
        "def valor(s, costes):\n",
        "    valor = 0\n",
        "\n",
        "    for i in range(len(s)):\n",
        "        valor += costes[s[i]][i]\n",
        "    \n",
        "    return valor\n",
        "\n",
        "valor((3, 2, ), costes)"
      ],
      "metadata": {
        "colab": {
          "base_uri": "https://localhost:8080/"
        },
        "id": "RQ4DaE4txSqc",
        "outputId": "df0ba434-1fef-4e8a-8fc5-ccbd900ab388"
      },
      "execution_count": null,
      "outputs": [
        {
          "output_type": "execute_result",
          "data": {
            "text/plain": [
              "34"
            ]
          },
          "metadata": {},
          "execution_count": 16
        }
      ]
    },
    {
      "cell_type": "code",
      "source": [
        "#Coste inferior para soluciones parciales\n",
        "# (1, 3, ) Se asigna la tarea 1 al agente 0 y la tarea 3 al agente 1\n",
        "\n",
        "def ci(s, costes):\n",
        "    valor = 0\n",
        "\n",
        "    #valores establecidos\n",
        "    for i in range(len(s)):\n",
        "        valor += costes[i][s[i]]\n",
        "    \n",
        "    #Estimacion\n",
        "    for i in range(len(s), len(costes)):\n",
        "        valor += min ([costes[j][i] for j in range(len(s), len(costes))])\n",
        "\n",
        "    return valor\n",
        "\n",
        "def cs(s, costes):\n",
        "    valor = 0\n",
        "    \n",
        "    #valores establecidos\n",
        "    for i in range(len(s)):\n",
        "        valor += costes[i][s[i]]\n",
        "\n",
        "    #Estimacion \n",
        "    for i in range(len(s), len(costes)):\n",
        "        valor += max([costes[j][i] for j in range(len(s), len(costes))])\n",
        "    \n",
        "    return valor\n",
        "\n",
        "ci((0, 1), costes)"
      ],
      "metadata": {
        "colab": {
          "base_uri": "https://localhost:8080/"
        },
        "id": "VSZmtdewyKoH",
        "outputId": "34f76a14-fa5e-4d13-a30d-9d8886c994f6"
      },
      "execution_count": null,
      "outputs": [
        {
          "output_type": "execute_result",
          "data": {
            "text/plain": [
              "68"
            ]
          },
          "metadata": {},
          "execution_count": 17
        }
      ]
    },
    {
      "cell_type": "code",
      "source": [
        "#Genera tantos hijos como posibilidades haya para la siguiente elementos de la tupla\n",
        "#(0,) --> (0,1), (0,2), (0,3)\n",
        "def crear_hijos(nodo, n):\n",
        "    hijos = []\n",
        "\n",
        "    for i in range(n):\n",
        "        if i not in nodo:\n",
        "            hijos.append({'s':nodo +(i,) })\n",
        "\n",
        "    return hijos"
      ],
      "metadata": {
        "id": "bV0EMOej0mdK"
      },
      "execution_count": null,
      "outputs": []
    },
    {
      "cell_type": "code",
      "source": [
        "crear_hijos((0, 1, 3) , 4)"
      ],
      "metadata": {
        "colab": {
          "base_uri": "https://localhost:8080/"
        },
        "id": "bWVSnqLb1qdO",
        "outputId": "b4595ba5-1a69-4ce8-f1e3-ab59f2c922ce"
      },
      "execution_count": null,
      "outputs": [
        {
          "output_type": "execute_result",
          "data": {
            "text/plain": [
              "[{'s': (0, 1, 3, 2)}]"
            ]
          },
          "metadata": {},
          "execution_count": 35
        }
      ]
    },
    {
      "cell_type": "code",
      "source": [
        "def ramificacion_y_poda(costes):\n",
        "#construccion iterativa de soluciones(arbol). En cada etapa asignamos un agente(ramas)\n",
        "#Nodos del grafo (s:(1,), CI:3, CS:5)\n",
        "\n",
        "    dimension = len(costes)\n",
        "    mejor_solucion = tuple(i for i in range(len(costes)))\n",
        "    cotasup = valor(mejor_solucion, costes)\n",
        "\n",
        "    nodos = []\n",
        "    nodos.append({'s': (), 'ci': ci((), costes)})\n",
        "\n",
        "    iteracion = 0\n",
        "\n",
        "    while(len(nodos) > 0):\n",
        "        iteracion += 1\n",
        "\n",
        "        nodo_prometedor = [min(nodos, key=lambda x:x['ci'])  ][0]['s']\n",
        "\n",
        "        #Ramificacion\n",
        "        #Se generan los hijos\n",
        "        hijos = [{'s':x['s'], 'ci':ci(x['s'], costes)} for x in crear_hijos(nodo_prometedor, dimension)]\n",
        "\n",
        "        #Revisamos la cota superior y nos quedamos con la mejor solucion si llegamos a una solucion final\n",
        "        nodo_final = [x for x in hijos if len(x['s']) == dimension]\n",
        "\n",
        "        if len(nodo_final) > 0:\n",
        "            if nodo_final[0]['ci'] < cotasup:\n",
        "                cotasup = nodo_final[0]['ci']\n",
        "                mejor_solucion = nodo_final\n",
        "\n",
        "        #Poda\n",
        "        hijos = [x for x in hijos if x['ci'] < cotasup]\n",
        "\n",
        "        #Añadimos los hijos\n",
        "        nodos.extend(hijos)\n",
        "\n",
        "        #Eliminamos el nodo ramificado\n",
        "        nodos = [x for x in nodos if x['s'] != nodo_prometedor]\n",
        "\n",
        "    print(\"La solucion final es:\", mejor_solucion, \" en \", iteracion, \" iteraciones\", \" para dimension: \", dimension)\n",
        "\n",
        "\n",
        "\n",
        "ramificacion_y_poda(costes)"
      ],
      "metadata": {
        "colab": {
          "base_uri": "https://localhost:8080/"
        },
        "id": "FRydpjDR4LFL",
        "outputId": "b8ea4714-6fca-45c6-c89b-d683ec523670"
      },
      "execution_count": null,
      "outputs": [
        {
          "output_type": "stream",
          "name": "stdout",
          "text": [
            "La solucion final es: [{'s': (1, 2, 0, 3), 'ci': 64}]  en  10  iteraciones  para dimension:  4\n"
          ]
        }
      ]
    }
  ]
}